{
 "cells": [
  {
   "cell_type": "markdown",
   "metadata": {},
   "source": [
    "# **任务描述：**\n",
    "\n",
    "\n",
    "如何根据据图像的视觉内容为图像赋予一个语义类别（例如，教室、街道等）是图像场景分类的目标，也是图像检索、图像内容分析和目标识别等问题的基础。但由于图片的尺度、角度、光照等多样性以及场景定义的复杂性，场景分类一直是计算机视觉中的一个挑战性问题。\n",
    "\n",
    "<br/>\n",
    "\n",
    "**本实践旨在通过一个场景分类的案列，让大家理解和掌握如何使用飞桨动态图搭建一个经典的卷积神经网络。**\n",
    "\n",
    "<br/>\n",
    "\n",
    "**特别提示：本实践所用数据集均来自互联网，请勿用于商务用途。**"
   ]
  },
  {
   "cell_type": "code",
   "execution_count": 1,
   "metadata": {
    "collapsed": false,
    "jupyter": {
     "outputs_hidden": false
    },
    "scrolled": true
   },
   "outputs": [
    {
     "data": {
      "text/plain": [
       "Place(gpu:0)"
      ]
     },
     "execution_count": 1,
     "metadata": {},
     "output_type": "execute_result"
    }
   ],
   "source": [
    "import os\n",
    "import zipfile\n",
    "import random\n",
    "import json\n",
    "import paddle\n",
    "import sys\n",
    "import numpy as np\n",
    "from PIL import Image\n",
    "import matplotlib.pyplot as plt\n",
    "from paddle.io import Dataset\n",
    "device = paddle.set_device('gpu')\n",
    "device\n"
   ]
  },
  {
   "cell_type": "code",
   "execution_count": 2,
   "metadata": {
    "collapsed": false,
    "jupyter": {
     "outputs_hidden": false
    },
    "scrolled": true
   },
   "outputs": [],
   "source": [
    "'''\n",
    "参数配置\n",
    "'''\n",
    "train_parameters = {\n",
    "    \"input_size\": [3, 224, 224],                              #输入图片的shape\n",
    "    \"class_dim\": -1,                                          #分类数\n",
    "    \"src_path\":\"data/Chinese Medicine.zip\",    #原始数据集路径\n",
    "    \"target_path\":\"data/\",                     #要解压的路径\n",
    "    \"train_list_path\": \"data/train.txt\",       #train.txt路径\n",
    "    \"eval_list_path\": \"data/eval.txt\",         #eval.txt路径\n",
    "    \"readme_path\": \"data/readme.json\",         #readme.json路径\n",
    "    \"label_dict\":{},                                          #标签字典\n",
    "    \"num_epochs\": 10,                                         #训练轮数\n",
    "    \"train_batch_size\": 8,                                    #训练时每个批次的大小\n",
    "    \"skip_steps\": 10,\n",
    "    \"save_steps\": 30, \n",
    "    \"learning_strategy\": {                                    #优化函数相关的配置\n",
    "        \"lr\": 0.0001                                          #超参数学习率\n",
    "    },\n",
    "    \"checkpoints\": \"work/checkpoints\"          #保存的路径\n",
    "\n",
    "}"
   ]
  },
  {
   "cell_type": "markdown",
   "metadata": {},
   "source": [
    "# **一、数据准备**\n",
    "\n",
    "（1）解压原始数据集\n",
    "\n",
    "（2）按照比例划分训练集与验证集\n",
    "\n",
    "（3）乱序，生成数据列表\n",
    "\n",
    "（4）定义数据读取器"
   ]
  },
  {
   "cell_type": "code",
   "execution_count": 3,
   "metadata": {
    "collapsed": false,
    "jupyter": {
     "outputs_hidden": false
    },
    "scrolled": true
   },
   "outputs": [],
   "source": [
    "def unzip_data(src_path,target_path):\n",
    "    '''\n",
    "    解压原始数据集，将src_path路径下的zip包解压至target_path目录下\n",
    "    '''\n",
    "    if(not os.path.isdir(target_path + \"Chinese Medicine\")):     \n",
    "        z = zipfile.ZipFile(src_path, 'r')\n",
    "        z.extractall(path=target_path)\n",
    "        z.close()"
   ]
  },
  {
   "cell_type": "code",
   "execution_count": 4,
   "metadata": {
    "collapsed": false,
    "jupyter": {
     "outputs_hidden": false
    },
    "scrolled": true
   },
   "outputs": [],
   "source": [
    "def get_data_list(target_path,train_list_path,eval_list_path):\n",
    "    '''\n",
    "    生成数据列表\n",
    "    '''\n",
    "    #存放所有类别的信息\n",
    "    class_detail = []\n",
    "    #获取所有类别保存的文件夹名称\n",
    "    data_list_path=target_path+\"Chinese Medicine/\"\n",
    "    class_dirs = os.listdir(data_list_path)  \n",
    "    #总的图像数量\n",
    "    all_class_images = 0\n",
    "    #存放类别标签\n",
    "    class_label=0\n",
    "    #存放类别数目\n",
    "    class_dim = 0\n",
    "    #存储要写进eval.txt和train.txt中的内容\n",
    "    trainer_list=[]\n",
    "    eval_list=[]\n",
    "    #读取每个类别，['river', 'lawn','church','ice','desert']\n",
    "    for class_dir in class_dirs:\n",
    "        if class_dir != \".DS_Store\":\n",
    "            class_dim += 1\n",
    "            #每个类别的信息\n",
    "            class_detail_list = {}\n",
    "            eval_sum = 0\n",
    "            trainer_sum = 0\n",
    "            #统计每个类别有多少张图片\n",
    "            class_sum = 0\n",
    "            #获取类别路径 \n",
    "            path = data_list_path  + class_dir\n",
    "            # 获取所有图片\n",
    "            img_paths = os.listdir(path)\n",
    "            for img_path in img_paths:                                  # 遍历文件夹下的每个图片\n",
    "                name_path = path + '/' + img_path                       # 每张图片的路径\n",
    "                if class_sum % 8 == 0:                                  # 每8张图片取一个做验证数据\n",
    "                    eval_sum += 1                                       # test_sum为测试数据的数目\n",
    "                    eval_list.append(name_path + \"\\t%d\" % class_label + \"\\n\")\n",
    "                else:\n",
    "                    trainer_sum += 1 \n",
    "                    trainer_list.append(name_path + \"\\t%d\" % class_label + \"\\n\")#trainer_sum测试数据的数目\n",
    "                class_sum += 1                                          #每类图片的数目\n",
    "                all_class_images += 1                                   #所有类图片的数目\n",
    "             \n",
    "            # 说明的json文件的class_detail数据\n",
    "            class_detail_list['class_name'] = class_dir             #类别名称\n",
    "            class_detail_list['class_label'] = class_label          #类别标签\n",
    "            class_detail_list['class_eval_images'] = eval_sum       #该类数据的测试集数目\n",
    "            class_detail_list['class_trainer_images'] = trainer_sum #该类数据的训练集数目\n",
    "            class_detail.append(class_detail_list)  \n",
    "            #初始化标签列表\n",
    "            train_parameters['label_dict'][str(class_label)] = class_dir\n",
    "            class_label += 1 \n",
    "            \n",
    "    #初始化分类数\n",
    "    train_parameters['class_dim'] = class_dim\n",
    "  \n",
    "    #乱序  \n",
    "    random.shuffle(eval_list)\n",
    "    with open(eval_list_path, 'a') as f:\n",
    "        for eval_image in eval_list:\n",
    "            f.write(eval_image) \n",
    "            \n",
    "    random.shuffle(trainer_list)\n",
    "    with open(train_list_path, 'a') as f2:\n",
    "        for train_image in trainer_list:\n",
    "            f2.write(train_image) \n",
    "\n",
    "    # 说明的json文件信息\n",
    "    readjson = {}\n",
    "    readjson['all_class_name'] = data_list_path                  #文件父目录\n",
    "    readjson['all_class_images'] = all_class_images\n",
    "    readjson['class_detail'] = class_detail\n",
    "    jsons = json.dumps(readjson, sort_keys=True, indent=4, separators=(',', ': '))\n",
    "    with open(train_parameters['readme_path'],'w') as f:\n",
    "        f.write(jsons)\n",
    "    print ('生成数据列表完成！')"
   ]
  },
  {
   "cell_type": "code",
   "execution_count": 5,
   "metadata": {
    "collapsed": false,
    "jupyter": {
     "outputs_hidden": false
    },
    "scrolled": true
   },
   "outputs": [
    {
     "name": "stdout",
     "output_type": "stream",
     "text": [
      "生成数据列表完成！\n"
     ]
    }
   ],
   "source": [
    "'''\n",
    "参数初始化\n",
    "'''\n",
    "src_path=train_parameters['src_path']\n",
    "target_path=train_parameters['target_path']\n",
    "train_list_path=train_parameters['train_list_path']\n",
    "eval_list_path=train_parameters['eval_list_path']\n",
    "\n",
    "'''\n",
    "解压原始数据到指定路径\n",
    "'''\n",
    "unzip_data(src_path,target_path)\n",
    "\n",
    "'''\n",
    "划分训练集与验证集，乱序，生成数据列表\n",
    "'''\n",
    "#每次生成数据列表前，首先清空train.txt和eval.txt\n",
    "with open(train_list_path, 'w') as f: \n",
    "    f.seek(0)\n",
    "    f.truncate() \n",
    "with open(eval_list_path, 'w') as f: \n",
    "    f.seek(0)\n",
    "    f.truncate() \n",
    "    \n",
    "#生成数据列表   \n",
    "get_data_list(target_path,train_list_path,eval_list_path)"
   ]
  },
  {
   "cell_type": "code",
   "execution_count": 6,
   "metadata": {
    "collapsed": false,
    "jupyter": {
     "outputs_hidden": false
    },
    "scrolled": true
   },
   "outputs": [],
   "source": [
    "class dataset(Dataset):\n",
    "    def __init__(self, data_path, mode='train'):\n",
    "        \"\"\"\n",
    "        数据读取器\n",
    "        :param data_path: 数据集所在路径\n",
    "        :param mode: train or eval\n",
    "        \"\"\"\n",
    "        super().__init__()\n",
    "        self.data_path = data_path\n",
    "        self.img_paths = []\n",
    "        self.labels = []\n",
    "\n",
    "        if mode == 'train':\n",
    "            with open(os.path.join(self.data_path, \"train.txt\"), \"r\", encoding=\"utf-8\") as f:\n",
    "                self.info = f.readlines()\n",
    "            for img_info in self.info:\n",
    "                img_path, label = img_info.strip().split('\\t')\n",
    "                self.img_paths.append(img_path)\n",
    "                self.labels.append(int(label))\n",
    "\n",
    "        else:\n",
    "            with open(os.path.join(self.data_path, \"eval.txt\"), \"r\", encoding=\"utf-8\") as f:\n",
    "                self.info = f.readlines()\n",
    "            for img_info in self.info:\n",
    "                img_path, label = img_info.strip().split('\\t')\n",
    "                self.img_paths.append(img_path)\n",
    "                self.labels.append(int(label))\n",
    "\n",
    "\n",
    "    def __getitem__(self, index):\n",
    "        \"\"\"\n",
    "        获取一组数据\n",
    "        :param index: 文件索引号\n",
    "        :return:\n",
    "        \"\"\"\n",
    "        # 第一步打开图像文件并获取label值\n",
    "        img_path = self.img_paths[index]\n",
    "        img = Image.open(img_path)\n",
    "        if img.mode != 'RGB':\n",
    "            img = img.convert('RGB') \n",
    "        img = img.resize((224, 224), Image.BILINEAR)\n",
    "        img = np.array(img).astype('float32')\n",
    "        img = img.transpose((2, 0, 1)) / 255\n",
    "        label = self.labels[index]\n",
    "        label = np.array([label], dtype=\"int64\")\n",
    "        return img, label\n",
    "\n",
    "    def print_sample(self, index: int = 0):\n",
    "        print(\"文件名\", self.img_paths[index], \"\\t标签值\", self.labels[index])\n",
    "\n",
    "    def __len__(self):\n",
    "        return len(self.img_paths)"
   ]
  },
  {
   "cell_type": "code",
   "execution_count": 7,
   "metadata": {
    "collapsed": false,
    "jupyter": {
     "outputs_hidden": false
    },
    "scrolled": true
   },
   "outputs": [],
   "source": [
    "\n",
    "#训练数据加载\n",
    "train_dataset = dataset('data',mode='train')\n",
    "train_loader = paddle.io.DataLoader(train_dataset, batch_size=16, shuffle=True)\n",
    "#测试数据加载\n",
    "eval_dataset = dataset('data',mode='eval')\n",
    "eval_loader = paddle.io.DataLoader(eval_dataset, batch_size = 8, shuffle=False)"
   ]
  },
  {
   "cell_type": "code",
   "execution_count": 8,
   "metadata": {
    "collapsed": false,
    "jupyter": {
     "outputs_hidden": false
    },
    "scrolled": true
   },
   "outputs": [
    {
     "name": "stdout",
     "output_type": "stream",
     "text": [
      "文件名 data/Chinese Medicine/dangshen/dangshen_216.jpg \t标签值 1\n",
      "787\n",
      "文件名 data/Chinese Medicine/baihe/b (73).jpg \t标签值 0\n",
      "115\n",
      "(3, 224, 224)\n",
      "(1,)\n"
     ]
    },
    {
     "name": "stderr",
     "output_type": "stream",
     "text": [
      "C:\\Users\\12631\\AppData\\Local\\Temp\\ipykernel_5624\\526974579.py:41: DeprecationWarning: BILINEAR is deprecated and will be removed in Pillow 10 (2023-07-01). Use Resampling.BILINEAR instead.\n",
      "  img = img.resize((224, 224), Image.BILINEAR)\n"
     ]
    }
   ],
   "source": [
    "train_dataset.print_sample(200)\n",
    "print(train_dataset.__len__())\n",
    "eval_dataset.print_sample(0)\n",
    "print(eval_dataset.__len__())\n",
    "print(eval_dataset.__getitem__(10)[0].shape)\n",
    "print(eval_dataset.__getitem__(10)[1].shape)"
   ]
  },
  {
   "cell_type": "code",
   "execution_count": null,
   "metadata": {
    "collapsed": false,
    "jupyter": {
     "outputs_hidden": false
    },
    "scrolled": true
   },
   "outputs": [],
   "source": []
  },
  {
   "cell_type": "markdown",
   "metadata": {},
   "source": [
    "# **二、模型配置**\n",
    "\n",
    "![](https://ai-studio-static-online.cdn.bcebos.com/9ca0744272b0449186f766afcabadd598e24679088a4438dafede05a71b7c141)\n",
    "\n",
    "VGG的核心是五组卷积操作，每两组之间做Max-Pooling空间降维。同一组内采用多次连续的3X3卷积，卷积核的数目由较浅组的64增多到最深组的512，同一组内的卷积核数目是一样的。卷积之后接两层全连 接层，之后是分类层。由于每组内卷积层的不同，有11、13、16、19层这几种模型，上图展示一个16层的网络结构。\n",
    "\n"
   ]
  },
  {
   "cell_type": "code",
   "execution_count": 9,
   "metadata": {
    "collapsed": false,
    "jupyter": {
     "outputs_hidden": false
    },
    "scrolled": true
   },
   "outputs": [],
   "source": [
    "class ConvPool(paddle.nn.Layer):\n",
    "    '''卷积+池化'''\n",
    "    def __init__(self,\n",
    "                 num_channels,\n",
    "                 num_filters, \n",
    "                 filter_size,\n",
    "                 pool_size,\n",
    "                 pool_stride,\n",
    "                 groups,\n",
    "                 conv_stride=1, \n",
    "                 conv_padding=1,\n",
    "                 ):\n",
    "        super(ConvPool, self).__init__()  \n",
    "\n",
    "\n",
    "        for i in range(groups):\n",
    "            self.add_sublayer(   #添加子层实例\n",
    "                'bb_%d' % i,\n",
    "                paddle.nn.Conv2D(         # layer\n",
    "                in_channels=num_channels, #通道数\n",
    "                out_channels=num_filters,   #卷积核个数\n",
    "                kernel_size=filter_size,   #卷积核大小\n",
    "                stride=conv_stride,        #步长\n",
    "                padding = conv_padding,    #padding\n",
    "                )\n",
    "            )\n",
    "            self.add_sublayer(\n",
    "                'relu%d' % i,\n",
    "                paddle.nn.ReLU()\n",
    "            )\n",
    "            num_channels = num_filters\n",
    "            \n",
    "\n",
    "        self.add_sublayer(\n",
    "            'Maxpool',\n",
    "            paddle.nn.MaxPool2D(\n",
    "            kernel_size=pool_size,           #池化核大小\n",
    "            stride=pool_stride               #池化步长\n",
    "            )\n",
    "        )\n",
    "\n",
    "    def forward(self, inputs):\n",
    "        x = inputs\n",
    "        for prefix, sub_layer in self.named_children():\n",
    "            # print(prefix,sub_layer)\n",
    "            x = sub_layer(x)\n",
    "        return x\n",
    "        "
   ]
  },
  {
   "cell_type": "code",
   "execution_count": 10,
   "metadata": {
    "collapsed": false,
    "jupyter": {
     "outputs_hidden": false
    },
    "scrolled": true
   },
   "outputs": [],
   "source": [
    "class VGGNet(paddle.nn.Layer):\n",
    "  \n",
    "    def __init__(self):\n",
    "        super(VGGNet, self).__init__()       \n",
    "        self.convpool01 = ConvPool(\n",
    "            3, 64, 3, 2, 2, 2)  #3:通道数，64：卷积核个数，3:卷积核大小，2:池化核大小，2:池化步长，2:连续卷积个数\n",
    "        self.convpool02 = ConvPool(\n",
    "            64, 128, 3, 2, 2, 2)\n",
    "        self.convpool03 = ConvPool(\n",
    "            128, 256, 3, 2, 2, 3) \n",
    "        self.convpool04 = ConvPool(\n",
    "            256, 512, 3, 2, 2, 3)\n",
    "        self.convpool05 = ConvPool(\n",
    "            512, 512, 3, 2, 2, 3)       \n",
    "        self.pool_5_shape = 512 * 7* 7\n",
    "        self.fc01 = paddle.nn.Linear(self.pool_5_shape, 4096)\n",
    "        self.fc02 = paddle.nn.Linear(4096, 4096)\n",
    "        self.fc03 = paddle.nn.Linear(4096, train_parameters['class_dim'])\n",
    "\n",
    "    def forward(self, inputs, label=None):\n",
    "        # print('input_shape:', inputs.shape) #[8, 3, 224, 224]\n",
    "        \"\"\"前向计算\"\"\"\n",
    "        out = self.convpool01(inputs) \n",
    "        out = self.convpool02(out) \n",
    "        out = self.convpool03(out) \n",
    "        out = self.convpool04(out) \n",
    "        out = self.convpool05(out)      \n",
    "\n",
    "        out = paddle.reshape(out, shape=[-1, 512*7*7])\n",
    "        out = self.fc01(out)\n",
    "        out = self.fc02(out)\n",
    "        out = self.fc03(out)\n",
    "        \n",
    "        if label is not None:\n",
    "            acc = paddle.metric.accuracy(input=out, label=label)\n",
    "            return out, acc\n",
    "        else:\n",
    "            return out\n",
    "            "
   ]
  },
  {
   "cell_type": "markdown",
   "metadata": {},
   "source": [
    "# 三、模型训练 "
   ]
  },
  {
   "cell_type": "code",
   "execution_count": 11,
   "metadata": {
    "collapsed": false,
    "jupyter": {
     "outputs_hidden": false
    },
    "scrolled": true
   },
   "outputs": [],
   "source": [
    "def draw_process(title,color,iters,data,label):\n",
    "    plt.title(title, fontsize=24)\n",
    "    plt.xlabel(\"iter\", fontsize=20)\n",
    "    plt.ylabel(label, fontsize=20)\n",
    "    plt.plot(iters, data,color=color,label=label) \n",
    "    plt.legend()\n",
    "    plt.grid()\n",
    "    plt.show()"
   ]
  },
  {
   "cell_type": "code",
   "execution_count": 12,
   "metadata": {
    "collapsed": false,
    "jupyter": {
     "outputs_hidden": false
    },
    "scrolled": true
   },
   "outputs": [
    {
     "name": "stdout",
     "output_type": "stream",
     "text": [
      "5\n",
      "{'0': 'baihe', '1': 'dangshen', '2': 'gouqi', '3': 'huaihua', '4': 'jinyinhua'}\n"
     ]
    }
   ],
   "source": [
    "print(train_parameters['class_dim'])\n",
    "print(train_parameters['label_dict'])"
   ]
  },
  {
   "cell_type": "code",
   "execution_count": 13,
   "metadata": {
    "collapsed": false,
    "jupyter": {
     "outputs_hidden": false
    },
    "scrolled": true
   },
   "outputs": [
    {
     "name": "stderr",
     "output_type": "stream",
     "text": [
      "C:\\Users\\12631\\AppData\\Local\\Temp\\ipykernel_5624\\526974579.py:41: DeprecationWarning: BILINEAR is deprecated and will be removed in Pillow 10 (2023-07-01). Use Resampling.BILINEAR instead.\n",
      "  img = img.resize((224, 224), Image.BILINEAR)\n"
     ]
    },
    {
     "name": "stdout",
     "output_type": "stream",
     "text": [
      "epo: 0, step: 10, loss is: [1.6063197], acc is: [0.25]\n",
      "epo: 0, step: 20, loss is: [1.7404811], acc is: [0.125]\n",
      "epo: 0, step: 30, loss is: [1.3692734], acc is: [0.25]\n",
      "save model to: work/checkpoints/save_dir_30.pdparams\n",
      "epo: 0, step: 40, loss is: [1.1832886], acc is: [0.4375]\n",
      "epo: 0, step: 50, loss is: [0.43100542], acc is: [1.]\n",
      "epo: 1, step: 60, loss is: [1.0386862], acc is: [0.4375]\n",
      "save model to: work/checkpoints/save_dir_60.pdparams\n",
      "epo: 1, step: 70, loss is: [1.0455766], acc is: [0.5625]\n",
      "epo: 1, step: 80, loss is: [1.0679083], acc is: [0.625]\n",
      "epo: 1, step: 90, loss is: [1.0763837], acc is: [0.3125]\n",
      "save model to: work/checkpoints/save_dir_90.pdparams\n",
      "epo: 1, step: 100, loss is: [0.93910813], acc is: [0.6666667]\n",
      "epo: 2, step: 110, loss is: [1.5991504], acc is: [0.1875]\n",
      "epo: 2, step: 120, loss is: [1.2477893], acc is: [0.375]\n",
      "save model to: work/checkpoints/save_dir_120.pdparams\n",
      "epo: 2, step: 130, loss is: [0.9788834], acc is: [0.5]\n",
      "epo: 2, step: 140, loss is: [1.2123208], acc is: [0.4375]\n",
      "epo: 2, step: 150, loss is: [1.1969668], acc is: [0.6666667]\n",
      "save model to: work/checkpoints/save_dir_150.pdparams\n",
      "epo: 3, step: 160, loss is: [1.043782], acc is: [0.4375]\n",
      "epo: 3, step: 170, loss is: [1.1604764], acc is: [0.4375]\n",
      "epo: 3, step: 180, loss is: [1.0872412], acc is: [0.6875]\n",
      "save model to: work/checkpoints/save_dir_180.pdparams\n",
      "epo: 3, step: 190, loss is: [1.0758072], acc is: [0.375]\n",
      "epo: 3, step: 200, loss is: [0.8357336], acc is: [0.6666667]\n",
      "epo: 4, step: 210, loss is: [0.69673884], acc is: [0.8125]\n",
      "save model to: work/checkpoints/save_dir_210.pdparams\n",
      "epo: 4, step: 220, loss is: [1.1057522], acc is: [0.5]\n",
      "epo: 4, step: 230, loss is: [1.108943], acc is: [0.625]\n",
      "epo: 4, step: 240, loss is: [0.99938893], acc is: [0.5625]\n",
      "save model to: work/checkpoints/save_dir_240.pdparams\n",
      "epo: 4, step: 250, loss is: [0.8197961], acc is: [1.]\n",
      "epo: 5, step: 260, loss is: [0.7285743], acc is: [0.6875]\n",
      "epo: 5, step: 270, loss is: [0.8425932], acc is: [0.5]\n",
      "save model to: work/checkpoints/save_dir_270.pdparams\n",
      "epo: 5, step: 280, loss is: [1.028472], acc is: [0.375]\n",
      "epo: 5, step: 290, loss is: [1.150422], acc is: [0.5]\n",
      "epo: 5, step: 300, loss is: [1.194671], acc is: [0.]\n",
      "save model to: work/checkpoints/save_dir_300.pdparams\n",
      "epo: 6, step: 310, loss is: [0.7613854], acc is: [0.5625]\n",
      "epo: 6, step: 320, loss is: [0.54022115], acc is: [0.75]\n",
      "epo: 6, step: 330, loss is: [0.8200542], acc is: [0.6875]\n",
      "save model to: work/checkpoints/save_dir_330.pdparams\n",
      "epo: 6, step: 340, loss is: [0.70128226], acc is: [0.625]\n",
      "epo: 6, step: 350, loss is: [1.2119579], acc is: [0.6666667]\n",
      "epo: 7, step: 360, loss is: [1.1209953], acc is: [0.5]\n",
      "save model to: work/checkpoints/save_dir_360.pdparams\n",
      "epo: 7, step: 370, loss is: [0.73999476], acc is: [0.625]\n",
      "epo: 7, step: 380, loss is: [0.3866472], acc is: [0.8125]\n",
      "epo: 7, step: 390, loss is: [0.57605046], acc is: [0.75]\n",
      "save model to: work/checkpoints/save_dir_390.pdparams\n",
      "epo: 7, step: 400, loss is: [1.1921366], acc is: [0.33333334]\n",
      "epo: 8, step: 410, loss is: [0.7499953], acc is: [0.5]\n",
      "epo: 8, step: 420, loss is: [0.7917975], acc is: [0.6875]\n",
      "save model to: work/checkpoints/save_dir_420.pdparams\n",
      "epo: 8, step: 430, loss is: [1.1447349], acc is: [0.25]\n",
      "epo: 8, step: 440, loss is: [0.6757061], acc is: [0.5625]\n",
      "epo: 8, step: 450, loss is: [0.55278146], acc is: [0.6666667]\n",
      "save model to: work/checkpoints/save_dir_450.pdparams\n",
      "epo: 9, step: 460, loss is: [0.55003965], acc is: [0.8125]\n",
      "epo: 9, step: 470, loss is: [0.49604884], acc is: [0.875]\n",
      "epo: 9, step: 480, loss is: [0.6096649], acc is: [0.6875]\n",
      "save model to: work/checkpoints/save_dir_480.pdparams\n",
      "epo: 9, step: 490, loss is: [0.5637283], acc is: [0.6875]\n",
      "epo: 9, step: 500, loss is: [0.05887086], acc is: [1.]\n"
     ]
    },
    {
     "data": {
      "image/png": "[encoded data removed]",
      "text/plain": [
       "<Figure size 640x480 with 1 Axes>"
      ]
     },
     "metadata": {},
     "output_type": "display_data"
    },
    {
     "data": {
      "image/png": "[encoded data removed]",
      "text/plain": [
       "<Figure size 640x480 with 1 Axes>"
      ]
     },
     "metadata": {},
     "output_type": "display_data"
    }
   ],
   "source": [
    "model = VGGNet()\n",
    "model.train()\n",
    "cross_entropy = paddle.nn.CrossEntropyLoss()\n",
    "optimizer = paddle.optimizer.Adam(learning_rate=train_parameters['learning_strategy']['lr'],\n",
    "                                  parameters=model.parameters()) \n",
    "\n",
    "steps = 0\n",
    "Iters, total_loss, total_acc = [], [], []\n",
    "\n",
    "for epo in range(train_parameters['num_epochs']):\n",
    "    for _, data in enumerate(train_loader()):\n",
    "        steps += 1\n",
    "        x_data = data[0]\n",
    "        y_data = data[1]\n",
    "        predicts, acc = model(x_data, y_data)\n",
    "        loss = cross_entropy(predicts, y_data)\n",
    "        loss.backward()\n",
    "        optimizer.step()\n",
    "        optimizer.clear_grad()\n",
    "        if steps % train_parameters[\"skip_steps\"] == 0:\n",
    "            Iters.append(steps)\n",
    "            total_loss.append(loss.numpy()[0])\n",
    "            total_acc.append(acc.numpy()[0])\n",
    "            #打印中间过程\n",
    "            print('epo: {}, step: {}, loss is: {}, acc is: {}'\\\n",
    "                  .format(epo, steps, loss.numpy(), acc.numpy()))\n",
    "        #保存模型参数\n",
    "        if steps % train_parameters[\"save_steps\"] == 0:\n",
    "            save_path = train_parameters[\"checkpoints\"]+\"/\"+\"save_dir_\" + str(steps) + '.pdparams'\n",
    "            print('save model to: ' + save_path)\n",
    "            paddle.save(model.state_dict(),save_path)\n",
    "paddle.save(model.state_dict(),train_parameters[\"checkpoints\"]+\"/\"+\"save_dir_final.pdparams\")\n",
    "draw_process(\"trainning loss\",\"red\",Iters,total_loss,\"trainning loss\")\n",
    "draw_process(\"trainning acc\",\"green\",Iters,total_acc,\"trainning acc\")"
   ]
  },
  {
   "cell_type": "markdown",
   "metadata": {},
   "source": [
    "# 四、模型评估"
   ]
  },
  {
   "cell_type": "code",
   "execution_count": 14,
   "metadata": {
    "collapsed": false,
    "jupyter": {
     "outputs_hidden": false
    },
    "scrolled": true
   },
   "outputs": [
    {
     "name": "stderr",
     "output_type": "stream",
     "text": [
      "C:\\Users\\12631\\AppData\\Local\\Temp\\ipykernel_5624\\526974579.py:41: DeprecationWarning: BILINEAR is deprecated and will be removed in Pillow 10 (2023-07-01). Use Resampling.BILINEAR instead.\n",
      "  img = img.resize((224, 224), Image.BILINEAR)\n"
     ]
    },
    {
     "name": "stdout",
     "output_type": "stream",
     "text": [
      "模型在验证集上的准确率为： 0.71944445\n"
     ]
    }
   ],
   "source": [
    "\n",
    "'''\n",
    "模型评估\n",
    "'''\n",
    "model__state_dict = paddle.load('work/checkpoints/save_dir_final.pdparams')\n",
    "model_eval = VGGNet()\n",
    "model_eval.set_state_dict(model__state_dict) \n",
    "model_eval.eval()\n",
    "accs = []\n",
    "\n",
    "for _, data in enumerate(eval_loader()):\n",
    "    x_data = data[0]\n",
    "    y_data = data[1]\n",
    "    predicts = model_eval(x_data)\n",
    "    acc = paddle.metric.accuracy(predicts, y_data)\n",
    "    accs.append(acc.numpy()[0])\n",
    "print('模型在验证集上的准确率为：',np.mean(accs))"
   ]
  },
  {
   "cell_type": "markdown",
   "metadata": {},
   "source": [
    "# **五、模型预测**"
   ]
  },
  {
   "cell_type": "code",
   "execution_count": 15,
   "metadata": {
    "collapsed": false,
    "jupyter": {
     "outputs_hidden": false
    },
    "scrolled": true
   },
   "outputs": [],
   "source": [
    "def unzip_infer_data(src_path,target_path):\n",
    "    '''\n",
    "    解压预测数据集\n",
    "    '''\n",
    "    if(not os.path.isdir(target_path + \"Chinese Medicine Infer\")):     \n",
    "        z = zipfile.ZipFile(src_path, 'r')\n",
    "        z.extractall(path=target_path)\n",
    "        z.close()\n",
    "\n",
    "\n",
    "def load_image(img_path):\n",
    "    '''\n",
    "    预测图片预处理\n",
    "    '''\n",
    "    img = Image.open(img_path) \n",
    "    if img.mode != 'RGB': \n",
    "        img = img.convert('RGB') \n",
    "    img = img.resize((224, 224), Image.BILINEAR)\n",
    "    img = np.array(img).astype('float32') \n",
    "    img = img.transpose((2, 0, 1)) / 255 # HWC to CHW 及归一化\n",
    "    return img\n",
    "\n",
    "\n",
    "infer_src_path = 'data/Chinese Medicine Infer.zip'\n",
    "infer_dst_path = 'data/'\n",
    "unzip_infer_data(infer_src_path,infer_dst_path)\n",
    "\n",
    "label_dic = train_parameters['label_dict']"
   ]
  },
  {
   "cell_type": "code",
   "execution_count": 16,
   "metadata": {
    "collapsed": false,
    "jupyter": {
     "outputs_hidden": false
    },
    "scrolled": true
   },
   "outputs": [
    {
     "name": "stdout",
     "output_type": "stream",
     "text": [
      "['baihe01.jpg', 'baihe02.jpg', 'dangshen01.jpg', 'dangshen02.jpg', 'gouqi01.jpg', 'gouqi02.jpg', 'huaihua01.jpg', 'huaihua02.jpg', 'jinyinhua01.jpg', 'jinyinhua02.jpg']\n",
      "样本: baihe01.jpg,被预测为:baihe\n",
      "样本: baihe02.jpg,被预测为:baihe\n"
     ]
    },
    {
     "name": "stderr",
     "output_type": "stream",
     "text": [
      "C:\\Users\\12631\\AppData\\Local\\Temp\\ipykernel_5624\\3837268103.py:18: DeprecationWarning: BILINEAR is deprecated and will be removed in Pillow 10 (2023-07-01). Use Resampling.BILINEAR instead.\n",
      "  img = img.resize((224, 224), Image.BILINEAR)\n"
     ]
    },
    {
     "name": "stdout",
     "output_type": "stream",
     "text": [
      "样本: dangshen01.jpg,被预测为:baihe\n",
      "样本: dangshen02.jpg,被预测为:dangshen\n",
      "样本: gouqi01.jpg,被预测为:gouqi\n",
      "样本: gouqi02.jpg,被预测为:gouqi\n",
      "样本: huaihua01.jpg,被预测为:huaihua\n",
      "样本: huaihua02.jpg,被预测为:jinyinhua\n",
      "样本: jinyinhua01.jpg,被预测为:jinyinhua\n",
      "样本: jinyinhua02.jpg,被预测为:jinyinhua\n"
     ]
    }
   ],
   "source": [
    "\n",
    "model__state_dict = paddle.load('work/checkpoints/save_dir_final.pdparams')\n",
    "model_predict = VGGNet()\n",
    "model_predict.set_state_dict(model__state_dict) \n",
    "model_predict.eval()\n",
    "infer_imgs_path = os.listdir(infer_dst_path+\"Chinese Medicine Infer\")\n",
    "print(infer_imgs_path)\n",
    "for infer_img_path in infer_imgs_path:\n",
    "    infer_img = load_image(infer_dst_path+\"Chinese Medicine Infer/\"+infer_img_path)\n",
    "    infer_img = infer_img[np.newaxis,:, : ,:]  #reshape(-1,3,224,224)\n",
    "    infer_img = paddle.to_tensor(infer_img)\n",
    "    result = model_predict(infer_img)\n",
    "    lab = np.argmax(result.numpy())\n",
    "    print(\"样本: {},被预测为:{}\".format(infer_img_path,label_dic[str(lab)]))"
   ]
  }
 ],
 "metadata": {
  "kernelspec": {
   "display_name": "Python 3",
   "language": "python",
   "name": "python3"
  },
  "language_info": {
   "codemirror_mode": {
    "name": "ipython",
    "version": 3
   },
   "file_extension": ".py",
   "mimetype": "text/x-python",
   "name": "python",
   "nbconvert_exporter": "python",
   "pygments_lexer": "ipython3",
   "version": "3.9.6"
  }
 },
 "nbformat": 4,
 "nbformat_minor": 4
}
